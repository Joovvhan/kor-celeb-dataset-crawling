{
 "cells": [
  {
   "cell_type": "code",
   "execution_count": 2,
   "metadata": {},
   "outputs": [],
   "source": [
    "import os\n",
    "from google_images_download import google_images_download"
   ]
  },
  {
   "cell_type": "code",
   "execution_count": 14,
   "metadata": {},
   "outputs": [],
   "source": [
    "keywords = []\n",
    "\n",
    "with open('../female_celebs_list_light.txt', encoding='UTF-8') as f:\n",
    "    lines = f.readlines()\n",
    "    keywords = [line.strip() for line in lines]"
   ]
  },
  {
   "cell_type": "code",
   "execution_count": null,
   "metadata": {
    "scrolled": true
   },
   "outputs": [],
   "source": [
    "\n",
    "\n",
    "from icrawler.builtin import BaiduImageCrawler, BingImageCrawler, GoogleImageCrawler\n",
    "\n",
    "for keyword in keywords:\n",
    "\n",
    "#     save_path = os.getcwd() + '/../data/' + keyword\n",
    "    save_path = 'D:/Korean Celeb Data/' + keyword\n",
    "\n",
    "    google_crawler = GoogleImageCrawler(\n",
    "        feeder_threads=1,\n",
    "        parser_threads=1,\n",
    "        downloader_threads=4,\n",
    "        storage={'root_dir': save_path + '/google'})\n",
    "\n",
    "    filters = dict(\n",
    "        type = \"face\"\n",
    "    #     size='large',\n",
    "    #     color='orange',\n",
    "    #     license='commercial,modify',\n",
    "    #     date=((2017, 1, 1), (2017, 11, 30))\n",
    "        )\n",
    "\n",
    "    google_crawler.crawl(keyword=keyword, filters=filters, offset=0, max_num=1000,\n",
    "                         min_size=(200,200), max_size=None, file_idx_offset=0)\n",
    "\n",
    "    bing_crawler = BingImageCrawler(downloader_threads=4,\n",
    "                                    storage={'root_dir': save_path + '/bing'})\n",
    "    bing_crawler.crawl(keyword=keyword, filters=None, offset=0, max_num=1000)\n",
    "\n",
    "    baidu_crawler = BaiduImageCrawler(storage={'root_dir': save_path + '/baidu'})\n",
    "    baidu_crawler.crawl(keyword=keyword, offset=0, max_num=1000,\n",
    "                        min_size=(200,200), max_size=None)"
   ]
  },
  {
   "cell_type": "code",
   "execution_count": null,
   "metadata": {},
   "outputs": [],
   "source": []
  }
 ],
 "metadata": {
  "kernelspec": {
   "display_name": "Python 3",
   "language": "python",
   "name": "python3"
  },
  "language_info": {
   "codemirror_mode": {
    "name": "ipython",
    "version": 3
   },
   "file_extension": ".py",
   "mimetype": "text/x-python",
   "name": "python",
   "nbconvert_exporter": "python",
   "pygments_lexer": "ipython3",
   "version": "3.7.5"
  }
 },
 "nbformat": 4,
 "nbformat_minor": 2
}
